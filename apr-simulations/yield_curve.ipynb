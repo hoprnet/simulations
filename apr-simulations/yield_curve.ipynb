{
 "cells": [
  {
   "cell_type": "code",
   "execution_count": 1,
   "metadata": {},
   "outputs": [],
   "source": [
    "import matplotlib.pyplot as plt\n",
    "from matplotlib import cm\n",
    "import numpy as np\n",
    "import warnings\n",
    "from models.interactive_parameter import InteractiveUtils\n",
    "\n",
    "warnings.filterwarnings('ignore')\n",
    "%config InlineBackend.figure_format = 'retina'"
   ]
  },
  {
   "cell_type": "markdown",
   "metadata": {},
   "source": [
    "**Generalised logistic function (GLF)**\n",
    "\n",
    "![y = A + \\frac{K - A}{\\left( C + Q \\cdot e^{-By} \\right)^{ 1 / \\nu} }](assets/GLF.png)\n",
    "\n",
    "taken from https://en.wikipedia.org/wiki/Generalised_logistic_function\n",
    "\n",
    "**Inverse GLF**\n",
    "The following equation is the one used in this simulation.\n",
    "\n",
    "![y = \\frac{1}{B} \\cdot ln \\left( \\frac{ \\left( \\frac{K - A}{x - A} \\right)^\\nu -C }{Q} \\right) + E](assets/GLF_inverse.png)\n",
    "\n",
    "A bunch of parameter can be removed, as they are not used:\n",
    "\n",
    "- `A` is the minimum value of the x axis, which will always be `0`\n",
    "- `C` and `Q` are form parameters that are meant to be set to `1` by default\n",
    "\n",
    "With those parameters replaced by their default values, here is the simplified equation used:\n",
    "\n",
    "![y = \\frac{1}{B} \\cdot ln \\left( \\left( \\frac{K}{x} \\right)^\\nu -1 \\right) + E](assets/GLF_inverse_simplified.png)\n",
    "\n",
    "This equation can be generalised in other dimensions as follow:\n",
    "\n",
    "![](assets/GLF_inverse_simplified_generalised.png)\n"
   ]
  },
  {
   "cell_type": "code",
   "execution_count": 2,
   "metadata": {},
   "outputs": [],
   "source": [
    "def equation_single(X, E, B, K, nu):\n",
    "    try:\n",
    "        inner = np.power((K/ X), nu) - 1\n",
    "        output: np.ndarray = (1/B) * np.log(inner) + E\n",
    "    except ZeroDivisionError:\n",
    "        output: np.ndarray = np.zeros_like(X)*np.nan\n",
    "\n",
    "    return output\n",
    "\n",
    "def equation_multi(X, Y, E, B1, K1, nu1, B2, K2, nu2):\n",
    "    try:\n",
    "        inner1 = np.power((K1/ X), nu1) - 1\n",
    "        inner2 = np.power((K2/ Y), nu2) - 1\n",
    "\n",
    "        output: np.ndarray = (1/B1) * np.log(inner1) + (1/B2) * np.log(inner2) + E\n",
    "    except ZeroDivisionError:\n",
    "        output: np.ndarray = np.zeros_like(X)*np.nan\n",
    "\n",
    "    return output\n",
    "\n",
    "def sigmoid_plot_single(ax, x_range, y_range, x, y, color, label):\n",
    "    ax.plot(x_range, y_range, label='X', color=color)\n",
    "    ax.vlines(x, 0, y, color='k', linestyle='dashed')\n",
    "    ax.hlines(y, -0.1, x, color='k', linestyle='dashed')\n",
    "    # ax.add_patch(Rectangle((K1, 0), 1-K1, 15, color='gray', alpha=0.2))\n",
    "    \n",
    "    ax.text(0.5, 0.95, \n",
    "        f'APR: {y:.2f}%', \n",
    "        transform=ax.transAxes, \n",
    "        horizontalalignment='center', \n",
    "        bbox=dict(facecolor='red', alpha=0.5))\n",
    "    \n",
    "    ax.set_xlabel(label)\n",
    "    ax.set_ylabel('APR (%)')\n",
    "\n",
    "    ax.set_xlim(-.1, 1.1)\n",
    "    ax.set_ylim(0, 15)\n",
    "    ax.grid()\n",
    "\n",
    "def sigmoid_plot_multi(ax, grid, T, x, y, z, alpha, theta):\n",
    "    ax.plot_surface(*grid, T, linewidth=0.5, cmap=cm.viridis, rstride=10, cstride=10)\n",
    "    ax.contour(*grid, T, zdir='x', offset=-.5, cmap='coolwarm')\n",
    "    ax.contour(*grid, T, zdir='y', offset=-.5, cmap='coolwarm')\n",
    "    ax.plot([x]*2, [y]*2, [0, z], color='k', linestyle='dashed')\n",
    "    ax.plot([-.5, x], [-.5, y], [z]*2, color='k', linestyle='dashed')\n",
    "\n",
    "    ax.text2D(0.5, 0.95, \n",
    "            f'APR: {z:.2f}%', \n",
    "            transform=ax.transAxes, \n",
    "            horizontalalignment='center', \n",
    "            bbox=dict(facecolor='red', alpha=0.5))\n",
    "    \n",
    "    ax.set_xlabel('Economic Security')\n",
    "    ax.set_ylabel(f'Network size')\n",
    "    ax.set_zlabel('APR (%)')\n",
    "\n",
    "    ax.set_xlim(-.5, 1)\n",
    "    ax.set_ylim(-.5, 1)\n",
    "    ax.set_zlim(0, 15)\n",
    "\n",
    "    ax.set_xticks(np.arange(0, 1, 0.2))\n",
    "    ax.set_yticks(np.arange(0, 1, 0.2))\n",
    "    ax.view_init(alpha, theta)\n",
    "    ax.set_box_aspect(aspect=None, zoom=0.9)\n",
    "\n",
    "def plot_static(alpha, theta, E, B1, K1, nu1, B2, K2, nu2, node_count, max_node_count, staked_tokens, max_token_supply):\n",
    "    ranges = [\n",
    "        np.arange(0, 1, 0.003),\n",
    "        np.arange(0, 1, 0.003)\n",
    "    ]\n",
    "    grid = np.meshgrid(*ranges)\n",
    "    fig = plt.figure(figsize=(15, 6))\n",
    "\n",
    "    axes = [\n",
    "        fig.add_subplot(1,4,(1,2), projection='3d'),\n",
    "        fig.add_subplot(1,4,3),\n",
    "        fig.add_subplot(1,4,4)\n",
    "    ]\n",
    "\n",
    "    token_ratio = staked_tokens / max_token_supply\n",
    "    node_ratio = node_count / max_node_count\n",
    "\n",
    "    # 3D plot \n",
    "    sigmoid_plot_multi(axes[0], grid, \n",
    "                       equation_multi(*grid, E, B1, K1, nu1, B2, K2, nu2),\n",
    "                       token_ratio, node_ratio, \n",
    "                       equation_multi(token_ratio, node_ratio, E, B1, K1, nu1, B2, K2, nu2),\n",
    "                       alpha, theta)\n",
    "\n",
    "    # 2D plot\n",
    "    sigmoid_plot_single(axes[1], ranges[0], \n",
    "                        equation_single(ranges[0], E, B1, K1, nu1), \n",
    "                        token_ratio, \n",
    "                        equation_single(token_ratio, E, B1, K1, nu1), \n",
    "                        'blue', 'Economic security')\n",
    "\n",
    "    sigmoid_plot_single(axes[2], ranges[1],\n",
    "                        equation_single(ranges[1], E, B2, K2, nu2), \n",
    "                        node_ratio,\n",
    "                        equation_single(node_ratio, E, B2, K2, nu2), \n",
    "                        'red', f'Network size (max: {max_node_count})')\n",
    "\n",
    "    plt.subplots_adjust(wspace=0.2)"
   ]
  },
  {
   "cell_type": "markdown",
   "metadata": {},
   "source": [
    "### Choice of base parameter for APR calculation\n",
    "\n",
    "Although the APR could be a variable of many network parameters, those which makes most sense to use are the following ones.\n",
    "\n",
    "**Economic security ratio**\n",
    "\n",
    "This ratio is calculated as the value of token staked in the network divided by the market capitalisation. If the staking ratio increases, the APR decreases.\n",
    "It's a gamable paramter: if a whale comes in the network and put a huge stake in his nodes' safe(s), he would increase this ratio drastically, thus would reduce the overall APR.\n",
    "\n",
    "**Network size**\n",
    "\n",
    "Eventhough we want the network to be as big as possible at somepoint, we don't want that this amount grows to fast. If the network size increases, the APR decreases. This is already a side effect of the current fix-budget, and should be kept in this new incentive scheme.\n",
    "The network size is converted to a ratio, based on some target network size. The APR decreases with the network size increasing. This parameter prevents whales spinning up many nodes to get maximum rewards from their stake.\n"
   ]
  },
  {
   "cell_type": "code",
   "execution_count": 3,
   "metadata": {},
   "outputs": [
    {
     "data": {
      "application/vnd.jupyter.widget-view+json": {
       "model_id": "14016c0eda2641b1ac20a38aa1581feb",
       "version_major": 2,
       "version_minor": 0
      },
      "text/plain": [
       "VBox(children=(VBox(children=(HTML(value='<b>Curve #1: Based on economic security</b>'), HBox(children=(FloatS…"
      ]
     },
     "metadata": {},
     "output_type": "display_data"
    },
    {
     "data": {
      "application/vnd.jupyter.widget-view+json": {
       "model_id": "25c379ff0f9e4ad381ef987eabbff454",
       "version_major": 2,
       "version_minor": 0
      },
      "text/plain": [
       "Output()"
      ]
     },
     "metadata": {},
     "output_type": "display_data"
    }
   ],
   "source": [
    "params = InteractiveUtils.loadSimulationConfigFile('assets/sigmoid.config.yaml')\n",
    "InteractiveUtils.plotInteractive(plot_static, params)"
   ]
  }
 ],
 "metadata": {
  "kernelspec": {
   "display_name": ".venv",
   "language": "python",
   "name": "python3"
  },
  "language_info": {
   "codemirror_mode": {
    "name": "ipython",
    "version": 3
   },
   "file_extension": ".py",
   "mimetype": "text/x-python",
   "name": "python",
   "nbconvert_exporter": "python",
   "pygments_lexer": "ipython3",
   "version": "3.9.18"
  }
 },
 "nbformat": 4,
 "nbformat_minor": 2
}
