{
 "cells": [
  {
   "cell_type": "code",
   "execution_count": 1,
   "metadata": {},
   "outputs": [],
   "source": [
    "from ipywidgets import interactive, VBox, Layout, HBox, IntSlider, FloatSlider\n",
    "\n",
    "# %matplotlib inline\n",
    "%config InlineBackend.figure_format = 'retina'"
   ]
  },
  {
   "cell_type": "code",
   "execution_count": 2,
   "metadata": {},
   "outputs": [],
   "source": [
    "def estimate_investment(token_price: float, target_apr: float, target_earning: int, node_count: int):\n",
    "    staked_usd = target_earning / (target_apr / 100)\n",
    "    staked_tokens = staked_usd / token_price\n",
    "    earnings_per_year = target_earning / token_price\n",
    "    total_stake = staked_tokens * node_count\n",
    "    total_earned = earnings_per_year * node_count\n",
    "\n",
    "    print(f\"To match targets, {staked_tokens:_.0f} wxHOPR are needed, generating {earnings_per_year:_.0f} wxHOPR per year\")\n",
    "    print(f\"\\nWith {node_count} nodes:\")\n",
    "    print(f\"- {'total stake':20s}{'':10s}{total_stake:12_.0f} wxHOPR or {total_stake * token_price:10_.0f} USD\")\n",
    "    print(f\"- {'total earnings':20s}{'peer_year':10s}{total_earned:12_.0f} wxHOPR or {total_earned * token_price:10_.0f} USD\")\n",
    "    print(f\"  {'':20s}{'peer_day':10s}{total_earned/365:12_.0f} wxHOPR or {total_earned * token_price/365:10_.0f} USD\")\n",
    "\n",
    "    return staked_tokens\n"
   ]
  },
  {
   "cell_type": "code",
   "execution_count": 3,
   "metadata": {},
   "outputs": [
    {
     "data": {
      "application/vnd.jupyter.widget-view+json": {
       "model_id": "2f5ed80dd8ed4fa488b9afdf959b99ed",
       "version_major": 2,
       "version_minor": 0
      },
      "text/plain": [
       "VBox(children=(HBox(children=(FloatSlider(value=0.05, description='Token price ($)', max=0.2, min=0.01, readou…"
      ]
     },
     "metadata": {},
     "output_type": "display_data"
    }
   ],
   "source": [
    "style = {'description_width': 'initial'}\n",
    "\n",
    "token_price_slider = FloatSlider(min=0.01, max=0.20, step=0.005, value=0.05, description=\"Token price ($)\",readout_format='.3f', style=style)\n",
    "target_apr_slider = FloatSlider(min=0.5, max=20.0, step=0.5, value=12.0, description=\"Target APR (%)\", style=style)\n",
    "target_earning_slider = IntSlider(min=0, max=10000, step=100, value=1200, description=\"Target earning ($)\", style=style)\n",
    "node_count_slider = IntSlider(min=50, max=10000, step=50, value=350, description=\"Node count\", style=style)\n",
    "\n",
    "widgets = interactive(estimate_investment, token_price=token_price_slider, target_apr=target_apr_slider, target_earning=target_earning_slider, node_count=node_count_slider)\n",
    "controls = HBox(widgets.children[:-1], layout = Layout(flex_flow='row wrap'))\n",
    "display(VBox([controls, widgets.children[-1]]))\n"
   ]
  },
  {
   "cell_type": "code",
   "execution_count": null,
   "metadata": {},
   "outputs": [],
   "source": []
  },
  {
   "cell_type": "code",
   "execution_count": null,
   "metadata": {},
   "outputs": [],
   "source": []
  }
 ],
 "metadata": {
  "kernelspec": {
   "display_name": "Python 3",
   "language": "python",
   "name": "python3"
  },
  "language_info": {
   "codemirror_mode": {
    "name": "ipython",
    "version": 3
   },
   "file_extension": ".py",
   "mimetype": "text/x-python",
   "name": "python",
   "nbconvert_exporter": "python",
   "pygments_lexer": "ipython3",
   "version": "3.10.13"
  }
 },
 "nbformat": 4,
 "nbformat_minor": 2
}
