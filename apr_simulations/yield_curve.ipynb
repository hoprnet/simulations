{
 "cells": [
  {
   "cell_type": "code",
   "execution_count": 149,
   "metadata": {},
   "outputs": [],
   "source": [
    "import matplotlib.pyplot as plt\n",
    "from ipywidgets import interactive, VBox, Layout, HBox, IntSlider, FloatSlider, IntRangeSlider\n",
    "import numpy as np\n",
    "import math\n",
    "\n",
    "%config InlineBackend.figure_format = 'retina'"
   ]
  },
  {
   "cell_type": "code",
   "execution_count": 174,
   "metadata": {},
   "outputs": [],
   "source": [
    "class Param:\n",
    "    def __init__(self, name, value, min, max, step, description):\n",
    "        self.name = name\n",
    "        self.value = value\n",
    "        self.min = min\n",
    "        self.max = max\n",
    "        self.step = step\n",
    "        self.description = description\n",
    "\n",
    "    def slider(self):\n",
    "        style = {'description_width': 'initial', 'value_width': 'initial'}\n",
    "\n",
    "        return FloatSlider(min=self.min, max=self.max, step=self.step, value=self.value, description=f\"{self.description} ({self.name})\", style=style)\n",
    "    \n",
    "class Params:\n",
    "    def __init__(self, A, B, C, K, Q, nu):\n",
    "        self.A = A\n",
    "        self.B = B\n",
    "        self.C = C\n",
    "        self.K = K\n",
    "        self.Q = Q\n",
    "        self.nu = nu\n",
    "\n",
    "def equation(x, A, B, C, K, Q, nu):\n",
    "    try:\n",
    "        upper = math.pow((K-A)/(x-A), nu) - C\n",
    "        return (1/B) * math.log(upper / Q)\n",
    "    except: \n",
    "        return None\n",
    "    \n",
    "def plot_static(A, B, C, K, nu, Q):\n",
    "    x_range = np.linspace(0, 1, 1000)[1:]\n",
    "    y_range = [equation(x, A, B, C, K, Q, nu) for x in x_range]   \n",
    "    \n",
    "    plt.plot(x_range, y_range, 'g')\n",
    "    plt.axhline(y=0, color='black')\n",
    "    plt.xlim(-0.1, 1.1)\n",
    "    plt.ylim(-8, 8)\n",
    "    plt.xlabel(\"Staking ratio\")\n",
    "    plt.ylabel(\"Issuance yield (%)\")\n",
    "    plt.grid()\n",
    "\n",
    "def plot_interactive(params: Params):\n",
    "    A_slider = params.A.slider()\n",
    "    B_slider = params.B.slider()\n",
    "    C_slider = params.C.slider()\n",
    "    K_slider = params.K.slider()\n",
    "    Q_slider = params.Q.slider()\n",
    "    nu_slider = params.nu.slider()\n",
    "\n",
    "    # MAIN PLOTS WINDOW\n",
    "    widgets = interactive(plot_static, A=A_slider, B=B_slider, C=C_slider, K=K_slider, nu=nu_slider, Q=Q_slider)\n",
    "\n",
    "    controls = HBox(widgets.children[:-1], layout = Layout(flex_flow='row wrap'))\n",
    "\n",
    "    display(controls)\n",
    "    display(widgets.children[-1])"
   ]
  },
  {
   "cell_type": "code",
   "execution_count": 179,
   "metadata": {},
   "outputs": [
    {
     "data": {
      "application/vnd.jupyter.widget-view+json": {
       "model_id": "f7e49769ca844495877d84deb83c358a",
       "version_major": 2,
       "version_minor": 0
      },
      "text/plain": [
       "HBox(children=(FloatSlider(value=0.01, description='Minimum ratio (A)', max=0.5, step=0.01, style=SliderStyle(…"
      ]
     },
     "metadata": {},
     "output_type": "display_data"
    },
    {
     "data": {
      "application/vnd.jupyter.widget-view+json": {
       "model_id": "2e232644197648fcb56ef38950e3e46c",
       "version_major": 2,
       "version_minor": 0
      },
      "text/plain": [
       "Output()"
      ]
     },
     "metadata": {},
     "output_type": "display_data"
    }
   ],
   "source": [
    "params = Params(\n",
    "    Param(\"A\", 0.01, 0, 0.5, 0.01, \"Minimum ratio\"),\n",
    "    Param(\"B\", 0.8, 0, 2, 0.01, \"Growth rate\"),\n",
    "    Param(\"C\", 1, 0, 2, 0.01, \"Scale factor (meaningless)\"),\n",
    "    Param(\"K\", 0.5, 0, 1, 0.01, \"Maximum ratio\"),\n",
    "    Param(\"Q\", 0.8, 0, 10, 0.1, \"V. Offset (meaningless)\"),\n",
    "    Param(\"nu\", 1.25, 0, 2, 0.01, \"Skewness\"),\n",
    ")\n",
    "# equation from https://en.wikipedia.org/wiki/Generalised_logistic_function\n",
    "\n",
    "plot_interactive(params)"
   ]
  },
  {
   "cell_type": "code",
   "execution_count": null,
   "metadata": {},
   "outputs": [],
   "source": []
  },
  {
   "cell_type": "code",
   "execution_count": null,
   "metadata": {},
   "outputs": [],
   "source": []
  }
 ],
 "metadata": {
  "kernelspec": {
   "display_name": ".venv",
   "language": "python",
   "name": "python3"
  },
  "language_info": {
   "codemirror_mode": {
    "name": "ipython",
    "version": 3
   },
   "file_extension": ".py",
   "mimetype": "text/x-python",
   "name": "python",
   "nbconvert_exporter": "python",
   "pygments_lexer": "ipython3",
   "version": "3.9.18"
  }
 },
 "nbformat": 4,
 "nbformat_minor": 2
}
