{
 "cells": [
  {
   "cell_type": "code",
   "execution_count": 1,
   "metadata": {},
   "outputs": [],
   "source": [
    "import matplotlib.pyplot as plt\n",
    "from matplotlib import cm\n",
    "from ipywidgets import interactive, Layout, HTML, HBox, VBox, FloatSlider\n",
    "import numpy as np\n",
    "import warnings\n",
    "\n",
    "warnings.filterwarnings('ignore')\n",
    "%config InlineBackend.figure_format = 'retina'"
   ]
  },
  {
   "cell_type": "markdown",
   "metadata": {},
   "source": [
    "**Generalised logistic function (GLF)**\n",
    "\n",
    "![y = A + \\frac{K - A}{\\left( C + Q \\cdot e^{-By} \\right)^{ 1 / \\nu} }](assets/GLF.png)\n",
    "\n",
    "taken from https://en.wikipedia.org/wiki/Generalised_logistic_function\n",
    "\n",
    "**Inverse GLF**\n",
    "The following equation is the one used in this simulation.\n",
    "\n",
    "![y = \\frac{1}{B} \\cdot ln \\left( \\frac{ \\left( \\frac{K - A}{x - A} \\right)^\\nu -C }{Q} \\right) + E](assets/GLF_inverse.png)\n",
    "\n",
    "A bunch of parameter can be removed, as they are not used:\n",
    "- `A` is the minimum value of the x axis, which will always be `0`\n",
    "- `C` and `Q` are form parameters that are meant to be set to `1` by default\n",
    "\n",
    "With those parameters replaced by their default values, here is the simplified equation used:\n",
    "\n",
    "![y = \\frac{1}{B} \\cdot ln \\left( \\left( \\frac{K}{x} \\right)^\\nu -1 \\right) + E](assets/GLF_inverse_simplified.png)\n",
    "\n",
    "This equation can be generalised in other dimensions as follow:\n",
    " "
   ]
  },
  {
   "cell_type": "code",
   "execution_count": 105,
   "metadata": {},
   "outputs": [],
   "source": [
    "class Param:\n",
    "    def __init__(self, name, value, min, max, step, description, group=\"default\"):\n",
    "        self.name = name\n",
    "        self.value = value\n",
    "        self.min = min\n",
    "        self.max = max\n",
    "        self.step = step\n",
    "        self.description = description\n",
    "        self.group = group\n",
    "\n",
    "    def slider(self):\n",
    "        style = {'description_width': 'initial', 'value_width': 'initial'}\n",
    "\n",
    "        return FloatSlider(min=self.min, max=self.max, step=self.step, value=self.value, description=f\"{self.description} ({self.name})\", style=style)\n",
    "        \n",
    "def equation(X, Y, E, B1, K1, nu1, B2, K2, nu2):\n",
    "    try:\n",
    "        inner1 = np.power((K1/ X), nu1) - 1\n",
    "        inner2 = np.power((K2/ Y), nu2) - 1\n",
    "\n",
    "        output: np.ndarray = (1/B1) * np.log(inner1) + (1/B2) * np.log(inner2) + E\n",
    "    except ZeroDivisionError:\n",
    "        output: np.ndarray = np.zeros_like(X)*np.nan\n",
    "\n",
    "    return output\n",
    "\n",
    "def plot_static(E, B1, K1, nu1, B2, K2, nu2, alpha, theta):\n",
    "    ranges = [\n",
    "        np.arange(0, 1, 0.001),\n",
    "        np.arange(0, 1, 0.001)\n",
    "    ]\n",
    "    grid = np.meshgrid(*ranges)\n",
    "    T = equation(*grid, E, B1, K1, nu1, B2, K2, nu2)\n",
    "    \n",
    "    fig, ax = plt.subplots(subplot_kw={'projection': '3d'}, figsize=(10, 10))\n",
    "    fig.tight_layout(pad=5)\n",
    "    \n",
    "    ax.plot_surface(*grid, T, linewidth=0.5, cmap=cm.viridis, rstride=20, cstride=20)#,  vmin=0, vmax=20)\n",
    "    ax.contour(*grid, T, zdir='z', offset=0, cmap='coolwarm')\n",
    "    ax.contour(*grid, T, zdir='x', offset=-.5, cmap='coolwarm')\n",
    "    ax.contour(*grid, T, zdir='y', offset=-.5, cmap='coolwarm')\n",
    "\n",
    "    ax.set_xlabel('X')\n",
    "    ax.set_ylabel('Y')\n",
    "    ax.set_zlabel('APR (%)')\n",
    "\n",
    "    ax.set_xlim(-.5, 1)\n",
    "    ax.set_ylim(-.5, 1)\n",
    "    ax.set_zlim(0, 20)\n",
    "    ax.view_init(alpha, theta)\n",
    "\n",
    "    # ax.tick_params(axis=\"z\", pad=-3) # (+) Added\n",
    "\n",
    "\n",
    "def plot_interactive(params: list[Param]):\n",
    "    sliders_groups = {item.name: item.group for item in params}\n",
    "    sliders_list = {item.name: item.slider() for item in params}\n",
    "\n",
    "    widgets = interactive(plot_static, **sliders_list)\n",
    "    \n",
    "    grouped_widgets = {group: [] for group in set([item.group for item in params])}\n",
    "    for name, widget in zip(sliders_list.keys(), widgets.children[:-1]):\n",
    "        grouped_widgets[sliders_groups[name]].append(widget)\n",
    "\n",
    "    widget_title_group = [\n",
    "        VBox([\n",
    "            HTML(value=f\"<b>{name}</b>\"), \n",
    "            HBox(widget_group, layout = Layout(flex_flow='row wrap')), \n",
    "            HTML(value=\"<br>\")\n",
    "        ])\n",
    "        for name, widget_group in grouped_widgets.items()\n",
    "    ]\n",
    "\n",
    "    group_names = grouped_widgets.keys()\n",
    "    ordered_group = [x for _, x in sorted(zip(group_names, widget_title_group))]\n",
    "\n",
    "    display(VBox(ordered_group))\n",
    "    display(widgets.children[-1])"
   ]
  },
  {
   "cell_type": "code",
   "execution_count": 106,
   "metadata": {},
   "outputs": [
    {
     "data": {
      "application/vnd.jupyter.widget-view+json": {
       "model_id": "2e38a7f5c3344d90a6f0d777037124eb",
       "version_major": 2,
       "version_minor": 0
      },
      "text/plain": [
       "VBox(children=(VBox(children=(HTML(value='<b>Curve #1</b>'), HBox(children=(FloatSlider(value=1.25, descriptio…"
      ]
     },
     "metadata": {},
     "output_type": "display_data"
    },
    {
     "data": {
      "application/vnd.jupyter.widget-view+json": {
       "model_id": "7de0b7444ed045a18e34d020a015c6c0",
       "version_major": 2,
       "version_minor": 0
      },
      "text/plain": [
       "Output()"
      ]
     },
     "metadata": {},
     "output_type": "display_data"
    }
   ],
   "source": [
    "params = [\n",
    "    Param(\"E\", 11.5, 0, 20, 0.1, \"V. Offset\", \"Global\"),\n",
    "\n",
    "    Param(\"B1\", 1.25, 0, 10, 0.01, \"Flatness\", \"Curve #1\"),\n",
    "    Param(\"K1\", 0.5, 0, 1, 0.01, \"Maximum ratio\", \"Curve #1\"),\n",
    "    Param(\"nu1\",1.5, 0, 2, 0.01, \"Skewness\", \"Curve #1\"),\n",
    "\n",
    "    Param(\"B2\", 1.25, 0, 10, 0.01, \"Flatness\", \"Curve #2\"),\n",
    "    Param(\"K2\", 0.5, 0, 1, 0.01, \"Maximum ratio\", \"Curve #2\"),\n",
    "    Param(\"nu2\",1.5, 0, 2, 0.01, \"Skewness\", \"Curve #2\"),\n",
    "\n",
    "    Param(\"alpha\", 30, 0, 90, 5, \"Alpha\", \"UI\"),\n",
    "    Param(\"theta\", 45, 0, 90, 5, \"Theta\", \"UI\"),\n",
    "]\n",
    "\n",
    "plot_interactive( params)"
   ]
  },
  {
   "cell_type": "code",
   "execution_count": null,
   "metadata": {},
   "outputs": [],
   "source": []
  },
  {
   "cell_type": "code",
   "execution_count": null,
   "metadata": {},
   "outputs": [],
   "source": []
  }
 ],
 "metadata": {
  "kernelspec": {
   "display_name": ".venv",
   "language": "python",
   "name": "python3"
  },
  "language_info": {
   "codemirror_mode": {
    "name": "ipython",
    "version": 3
   },
   "file_extension": ".py",
   "mimetype": "text/x-python",
   "name": "python",
   "nbconvert_exporter": "python",
   "pygments_lexer": "ipython3",
   "version": "3.9.18"
  }
 },
 "nbformat": 4,
 "nbformat_minor": 2
}
