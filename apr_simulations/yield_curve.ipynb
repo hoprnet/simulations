{
 "cells": [
  {
   "cell_type": "code",
   "execution_count": 1,
   "metadata": {},
   "outputs": [],
   "source": [
    "import matplotlib.pyplot as plt\n",
    "from ipywidgets import interactive, Layout, HBox, FloatSlider\n",
    "import numpy as np\n",
    "import math\n",
    "\n",
    "%config InlineBackend.figure_format = 'retina'"
   ]
  },
  {
   "cell_type": "markdown",
   "metadata": {},
   "source": [
    "**Generalised logistic function (GLF)**\n",
    "\n",
    "![y = A + \\frac{K - A}{\\left( C + Q \\cdot e^{-By} \\right)^{ 1 / \\nu} }](assets/GLF.png)\n",
    "\n",
    "taken from https://en.wikipedia.org/wiki/Generalised_logistic_function\n",
    "\n",
    "**Inverse GLF**\n",
    "The following equation is the one used in this simulation.\n",
    "\n",
    "![y = \\frac{1}{B} \\cdot ln \\left( \\frac{ \\left( \\frac{K - A}{x - A} \\right)^\\nu -C }{Q} \\right) + E](assets/GLF_inverse.png)\n",
    "\n",
    "A bunch of parameter can be removed, as they are not used:\n",
    "- `A` is the minimum value of the x axis, which will always be `0`\n",
    "- `C` and `Q` are form parameters that are meant to be set to `1` by default\n",
    "\n",
    "With those parameters replaced by their default values, here is the simplified equation used:\n",
    "\n",
    "![y = \\frac{1}{B} \\cdot ln \\left( \\left( \\frac{K}{x} \\right)^\\nu -1 \\right) + E](assets/GLF_inverse_simplified.png)\n"
   ]
  },
  {
   "cell_type": "code",
   "execution_count": 2,
   "metadata": {},
   "outputs": [],
   "source": [
    "class Param:\n",
    "    def __init__(self, name, value, min, max, step, description):\n",
    "        self.name = name\n",
    "        self.value = value\n",
    "        self.min = min\n",
    "        self.max = max\n",
    "        self.step = step\n",
    "        self.description = description\n",
    "\n",
    "    def slider(self):\n",
    "        style = {'description_width': 'initial', 'value_width': 'initial'}\n",
    "\n",
    "        return FloatSlider(min=self.min, max=self.max, step=self.step, value=self.value, description=f\"{self.description} ({self.name})\", style=style)\n",
    "    \n",
    "class Params:\n",
    "    def __init__(self, *args: list[Param]):\n",
    "        for arg in args:\n",
    "            if not isinstance(arg, Param):\n",
    "                raise ValueError(\"All arguments must be of type Param\")\n",
    "            \n",
    "            setattr(self, arg.name, arg)\n",
    "        \n",
    "def equation(x, A, B, C, K, Q, nu, E):\n",
    "    try:\n",
    "        upper = math.pow((K-A)/(x-A), nu) - C\n",
    "        return (1/B) * math.log(upper / Q) + E\n",
    "    except: \n",
    "        return None\n",
    "    \n",
    "def equation2(x, B, K, nu, E):\n",
    "    try:\n",
    "        inner = math.pow((K/x), nu) - 1\n",
    "        return (1/B) * math.log(inner) + E        \n",
    "    except: \n",
    "        return None\n",
    "    \n",
    "# def plot_static(A, B, C, K, nu, Q, E):\n",
    "def plot_static(B, K, nu, E):\n",
    "    x_range = np.linspace(0, 1, 1000000)[1:-1]\n",
    "    # y_range = [equation(x, A, B, C, K, Q, nu, E) for x in x_range]   \n",
    "    y_range2 = [equation2(x, B, K, nu, E) for x in x_range]   \n",
    "\n",
    "    # plt.plot(x_range, y_range, 'g')\n",
    "    plt.plot(x_range, y_range2, 'g')\n",
    "    plt.axhline(y=0, color='black')\n",
    "    plt.xlim(-0.1, 1.1)\n",
    "    plt.ylim(-5, 20)\n",
    "    plt.xlabel(\"Any ratio\")\n",
    "    plt.ylabel(\"APR (%)\")\n",
    "    plt.grid()\n",
    "\n",
    "def plot_interactive(params: Params):\n",
    "    sliders = {param.name: param.slider() for param in vars(params).values()}\n",
    "\n",
    "    widgets = interactive(plot_static, **sliders)\n",
    "\n",
    "    controls = HBox(widgets.children[:-1], layout = Layout(flex_flow='row wrap'))\n",
    "\n",
    "    display(controls)\n",
    "    display(widgets.children[-1])"
   ]
  },
  {
   "cell_type": "code",
   "execution_count": 3,
   "metadata": {},
   "outputs": [
    {
     "data": {
      "application/vnd.jupyter.widget-view+json": {
       "model_id": "4b1acbb742714ffba46f8f9a5f8aaf6f",
       "version_major": 2,
       "version_minor": 0
      },
      "text/plain": [
       "HBox(children=(FloatSlider(value=1.25, description='Flatness (B)', max=10.0, step=0.01, style=SliderStyle(desc…"
      ]
     },
     "metadata": {},
     "output_type": "display_data"
    },
    {
     "data": {
      "application/vnd.jupyter.widget-view+json": {
       "model_id": "5735e4dac73b4cbbbf1352c07102c93d",
       "version_major": 2,
       "version_minor": 0
      },
      "text/plain": [
       "Output()"
      ]
     },
     "metadata": {},
     "output_type": "display_data"
    }
   ],
   "source": [
    "params = Params(\n",
    "    Param(\"B\", 1.25, 0, 10, 0.01, \"Flatness\"),\n",
    "    Param(\"E\", 11.5, 0, 20, 0.1, \"V. Offset\"),\n",
    "    Param(\"K\", 0.5, 0, 1, 0.01, \"Maximum ratio\"),\n",
    "    Param(\"nu\",1.5, 0, 2, 0.01, \"Skewness\"),\n",
    "    # Param(\"A\", 0, 0, 0.5, 0.01, \"Minimum ratio (implicit)\"),\n",
    "    # Param(\"C\", 1, 0, 2, 0.01, \"(meaningless)\"),\n",
    "    # Param(\"Q\", 1, -10, 10, 0.1, \"(meaningless)\"),\n",
    ")\n",
    "\n",
    "plot_interactive(params)"
   ]
  },
  {
   "cell_type": "code",
   "execution_count": null,
   "metadata": {},
   "outputs": [],
   "source": []
  }
 ],
 "metadata": {
  "kernelspec": {
   "display_name": ".venv",
   "language": "python",
   "name": "python3"
  },
  "language_info": {
   "codemirror_mode": {
    "name": "ipython",
    "version": 3
   },
   "file_extension": ".py",
   "mimetype": "text/x-python",
   "name": "python",
   "nbconvert_exporter": "python",
   "pygments_lexer": "ipython3",
   "version": "3.9.18"
  }
 },
 "nbformat": 4,
 "nbformat_minor": 2
}
