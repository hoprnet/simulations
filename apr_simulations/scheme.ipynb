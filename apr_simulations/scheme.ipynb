{
 "cells": [
  {
   "cell_type": "code",
   "execution_count": 1,
   "metadata": {},
   "outputs": [],
   "source": [
    "from dotenv import load_dotenv\n",
    "from helpers.graphql_provider import SafesProvider\n",
    "from helpers.hoprd_api import HoprdAPI\n",
    "from helpers.utils import Utils\n",
    "\n",
    "from models.economic_model import EconomicModel, Equations, Parameters, BudgetParameters, Equation\n",
    "from models.peer import Peer\n",
    "from models.subgraph_entry import SubgraphEntry\n",
    "from models.tolopogy_entry import TopologyEntry\n",
    "\n",
    "_ = load_dotenv()"
   ]
  },
  {
   "cell_type": "markdown",
   "metadata": {},
   "source": [
    "### Instanciate an API handler"
   ]
  },
  {
   "cell_type": "code",
   "execution_count": 2,
   "metadata": {},
   "outputs": [],
   "source": [
    "api = HoprdAPI(*Utils.apiHostAndKey('API_HOST', \"API_KEY\"))\n",
    "safes_balances_subgraph_url = Utils.envvar('SAFES_BALANCES_SUBGRAPH_URL', str)\n",
    "min_version = \"2.0.7\"\n"
   ]
  },
  {
   "cell_type": "code",
   "execution_count": 3,
   "metadata": {},
   "outputs": [],
   "source": [
    "async def get_subgraph_data():\n",
    "    key = \"registeredNodesInNetworkRegistry\"\n",
    "    query_id = \"SUBGRAPH_SAFES_BALANCES_QUERY_ID\"\n",
    "    safes_provider = SafesProvider(Utils.buildSubgraphURL(query_id))\n",
    "\n",
    "    results = list[SubgraphEntry]()\n",
    "    for safe in await safes_provider.get():\n",
    "        results.extend([SubgraphEntry.fromDict(node) for node in safe[key]])\n",
    "\n",
    "    return results\n",
    "\n",
    "async def get_topology_data(api: HoprdAPI):\n",
    "    channels = await api.all_channels(False)\n",
    "\n",
    "    results = await Utils.aggregatePeerBalanceInChannels(channels.all)\n",
    "    return [TopologyEntry.fromDict(*arg) for arg in results.items()]\n",
    "\n",
    "async def get_peers(api: HoprdAPI):\n",
    "    fields = [\"peer_id\", \"peer_address\", \"reported_version\"]\n",
    "\n",
    "    node_result = await api.peers(params=fields, quality=0.5)\n",
    "\n",
    "    return { Peer(*[item[f] for f in fields]) for item in node_result }"
   ]
  },
  {
   "cell_type": "code",
   "execution_count": 4,
   "metadata": {},
   "outputs": [
    {
     "name": "stdout",
     "output_type": "stream",
     "text": [
      "Subgraph size: 652\n",
      "Topology size: 437\n",
      "Number of peers: 353\n"
     ]
    }
   ],
   "source": [
    "safes = await get_subgraph_data()\n",
    "print(f\"Subgraph size: {len(safes)}\")\n",
    "\n",
    "topology = await get_topology_data(api)\n",
    "print(f\"Topology size: {len(topology)}\")\n",
    "\n",
    "peers = await get_peers(api)\n",
    "print(f\"Number of peers: {len(peers)}\")"
   ]
  },
  {
   "cell_type": "markdown",
   "metadata": {},
   "source": [
    "### Filter eligible peers"
   ]
  },
  {
   "cell_type": "code",
   "execution_count": 5,
   "metadata": {},
   "outputs": [
    {
     "name": "stdout",
     "output_type": "stream",
     "text": [
      "Eligible peers: 262\n"
     ]
    }
   ],
   "source": [
    "eligibles = Utils.mergeTopoPeersSafes(topology, peers, safes)\n",
    "\n",
    "addresses_to_exclude = [peer.address for peer in eligibles if peer.version_is_old(min_version)]\n",
    "Utils.exclude(eligibles, addresses_to_exclude)\n",
    "\n",
    "addresses_to_exclude = [peer.address for peer in eligibles if peer.safe_allowance < 0]\n",
    "Utils.exclude(eligibles, addresses_to_exclude)\n",
    "\n",
    "Utils.allowManyNodePerSafe(eligibles)\n",
    "print(f\"Eligible peers: {len(eligibles)}\")"
   ]
  },
  {
   "cell_type": "markdown",
   "metadata": {},
   "source": [
    "### Define and apply economic model"
   ]
  },
  {
   "cell_type": "code",
   "execution_count": 6,
   "metadata": {},
   "outputs": [],
   "source": [
    "equations = Equations(\n",
    "    Equation(\"a * x\", \"l <= x <= c\"), \n",
    "    Equation(\"a * c + (x - c) ** (1 / b)\", \"x > c\")\n",
    ")\n",
    "parameters = Parameters(1, 1.4, 75000, 10000)\n",
    "budget_params = BudgetParameters(150000, 2628000, 1, 365, 0.03, 1.0)\n",
    "economic_model = EconomicModel(equations, parameters, budget_params)"
   ]
  },
  {
   "cell_type": "code",
   "execution_count": 7,
   "metadata": {},
   "outputs": [],
   "source": [
    "for peer in eligibles:\n",
    "    peer.economic_model = economic_model\n",
    "Utils.rewardProbability(eligibles)"
   ]
  },
  {
   "cell_type": "code",
   "execution_count": null,
   "metadata": {},
   "outputs": [],
   "source": []
  }
 ],
 "metadata": {
  "kernelspec": {
   "display_name": "Python 3",
   "language": "python",
   "name": "python3"
  },
  "language_info": {
   "codemirror_mode": {
    "name": "ipython",
    "version": 3
   },
   "file_extension": ".py",
   "mimetype": "text/x-python",
   "name": "python",
   "nbconvert_exporter": "python",
   "pygments_lexer": "ipython3",
   "version": "3.10.13"
  }
 },
 "nbformat": 4,
 "nbformat_minor": 2
}
