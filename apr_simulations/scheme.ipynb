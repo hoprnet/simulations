{
 "cells": [
  {
   "cell_type": "code",
   "execution_count": 183,
   "metadata": {},
   "outputs": [],
   "source": [
    "from dotenv import load_dotenv\n",
    "from helpers.graphql_provider import SafesProvider\n",
    "from helpers.hoprd_api import HoprdAPI\n",
    "from helpers.utils import Utils\n",
    "\n",
    "import matplotlib.pyplot as plt\n",
    "from matplotlib.ticker import MaxNLocator\n",
    "from matplotlib.patches import Rectangle\n",
    "import numpy as np\n",
    "from ipywidgets import interactive, VBox, Layout, HBox, IntSlider, FloatSlider\n",
    "\n",
    "from models.economic_model import EconomicModel, Equations, Parameters, BudgetParameters, Equation\n",
    "from models.peer import Peer\n",
    "from models.subgraph_entry import SubgraphEntry\n",
    "from models.tolopogy_entry import TopologyEntry\n",
    "\n",
    "# %matplotlib inline\n",
    "%config InlineBackend.figure_format = 'retina'\n",
    "\n",
    "_ = load_dotenv()"
   ]
  },
  {
   "cell_type": "markdown",
   "metadata": {},
   "source": [
    "### Instanciate an API handler"
   ]
  },
  {
   "cell_type": "code",
   "execution_count": 2,
   "metadata": {},
   "outputs": [],
   "source": [
    "api = HoprdAPI(*Utils.apiHostAndKey('API_HOST', \"API_KEY\"))\n",
    "safes_balances_subgraph_url = Utils.envvar('SAFES_BALANCES_SUBGRAPH_URL', str)\n",
    "min_version = \"2.0.7\"\n"
   ]
  },
  {
   "cell_type": "code",
   "execution_count": 3,
   "metadata": {
    "tags": []
   },
   "outputs": [],
   "source": [
    "async def get_subgraph_data():\n",
    "    key = \"registeredNodesInNetworkRegistry\"\n",
    "    query_id = \"SUBGRAPH_SAFES_BALANCES_QUERY_ID\"\n",
    "    safes_provider = SafesProvider(Utils.buildSubgraphURL(query_id))\n",
    "\n",
    "    results = list[SubgraphEntry]()\n",
    "    for safe in await safes_provider.get():\n",
    "        results.extend([SubgraphEntry.fromDict(node) for node in safe[key]])\n",
    "\n",
    "    return results\n",
    "\n",
    "async def get_topology_data(api: HoprdAPI):\n",
    "    channels = await api.all_channels(False)\n",
    "\n",
    "    results = await Utils.aggregatePeerBalanceInChannels(channels.all)\n",
    "    return [TopologyEntry.fromDict(*arg) for arg in results.items()]\n",
    "\n",
    "async def get_peers(api: HoprdAPI):\n",
    "    fields = [\"peer_id\", \"peer_address\", \"reported_version\"]\n",
    "\n",
    "    node_result = await api.peers(params=fields, quality=0.5)\n",
    "\n",
    "    return { Peer(*[item[f] for f in fields]) for item in node_result }"
   ]
  },
  {
   "cell_type": "code",
   "execution_count": 4,
   "metadata": {},
   "outputs": [
    {
     "name": "stdout",
     "output_type": "stream",
     "text": [
      "Subgraph size: 655\n",
      "Topology size: 435\n",
      "Number of peers: 354\n"
     ]
    }
   ],
   "source": [
    "safes = await get_subgraph_data()\n",
    "print(f\"Subgraph size: {len(safes)}\")\n",
    "\n",
    "topology = await get_topology_data(api)\n",
    "print(f\"Topology size: {len(topology)}\")\n",
    "\n",
    "peers = await get_peers(api)\n",
    "print(f\"Number of peers: {len(peers)}\")"
   ]
  },
  {
   "cell_type": "markdown",
   "metadata": {},
   "source": [
    "### Filter eligible peers"
   ]
  },
  {
   "cell_type": "code",
   "execution_count": 5,
   "metadata": {},
   "outputs": [
    {
     "name": "stdout",
     "output_type": "stream",
     "text": [
      "Eligible peers: 261\n"
     ]
    }
   ],
   "source": [
    "eligibles = Utils.mergeTopoPeersSafes(topology, peers, safes)\n",
    "\n",
    "addresses_to_exclude = [peer.address for peer in eligibles if peer.version_is_old(min_version)]\n",
    "Utils.exclude(eligibles, addresses_to_exclude)\n",
    "\n",
    "addresses_to_exclude = [peer.address for peer in eligibles if peer.safe_allowance < 0]\n",
    "Utils.exclude(eligibles, addresses_to_exclude)\n",
    "\n",
    "Utils.allowManyNodePerSafe(eligibles)\n",
    "print(f\"Eligible peers: {len(eligibles)}\")"
   ]
  },
  {
   "cell_type": "markdown",
   "metadata": {},
   "source": [
    "### Define and apply economic model"
   ]
  },
  {
   "cell_type": "code",
   "execution_count": 61,
   "metadata": {},
   "outputs": [],
   "source": [
    "def get_reward_probability(token_price: float, budget_dollars: int):\n",
    "    equations = Equations(\n",
    "        Equation(\"a * x\", \"l <= x <= c\"), \n",
    "        Equation(\"a * c + (x - c) ** (1 / b)\", \"x > c\")\n",
    "    )\n",
    "    parameters = Parameters(1, 1.4, 75000, 10000)\n",
    "    budget_params = BudgetParameters(budget_dollars/token_price, 2628000, 1, 365, 0.03, 1.0)\n",
    "    economic_model = EconomicModel(equations, parameters, budget_params)\n",
    "\n",
    "    for peer in eligibles:\n",
    "        peer.economic_model = economic_model\n",
    "    Utils.rewardProbability(eligibles)\n",
    "\n",
    "    return eligibles"
   ]
  },
  {
   "cell_type": "markdown",
   "metadata": {},
   "source": [
    "### Stake distribution"
   ]
  },
  {
   "cell_type": "code",
   "execution_count": 218,
   "metadata": {},
   "outputs": [],
   "source": [
    "def print_distribution(bin_count: int, token_price: float, budget_dollars: int):\n",
    "    eligibles = get_reward_probability(token_price, budget_dollars)\n",
    "    stakes = [peer.total_balance for peer in eligibles]\n",
    "\n",
    "    limits = [10000, 75000]\n",
    "    separators = [0, 100e3, 500e3]\n",
    "    splits = []\n",
    "    bins = []\n",
    "\n",
    "    for low, high in zip(separators, separators[1:]):\n",
    "        splits.append([s for s in stakes if low < s < high])\n",
    "        bins.append(list(range(int(low), int(high), int((high-low)/bin_count))))\n",
    "\n",
    "    _, axes = plt.subplots(1, len(splits), figsize=(8*len(splits), 3.5), sharex=False, sharey=False)\n",
    "\n",
    "    axes = axes.flatten() if isinstance(axes, np.ndarray) else [axes]\n",
    "\n",
    "    for ax, split, bin in zip(axes, splits, bins):\n",
    "        bin_size = bin[1] - bin[0]\n",
    "        bin.append(bin[-1] + bin_size)\n",
    "        min_bin = bin[0] - bin_size\n",
    "        max_bin = bin[-1] + bin_size\n",
    "\n",
    "        _, edges, counts = ax.hist(split, bins=bin, facecolor=\"#000050\", edgecolor='black', linewidth=1.2, rwidth=0.85)\n",
    "        [ax.axvline(lim, color='#000050', linestyle='dashed', alpha=0.75) for lim in limits]\n",
    "\n",
    "        ax.add_patch(Rectangle((0, 0), limits[0], 100, color='red', alpha=0.4, zorder=0))\n",
    "        ax.add_patch(Rectangle((limits[0], 0), limits[1]-limits[0], 100, color='#ffffa0', alpha=0.4, zorder=0))\n",
    "\n",
    "        ax.bar_label(counts)\n",
    "        ax.set_xlim(min_bin, max_bin)\n",
    "        ax.set_xlabel(\"Stake (wxHOPR)\")\n",
    "        ax.yaxis.set_major_locator(MaxNLocator(integer=True))\n",
    "        texts = [\n",
    "            ax.text(0.95, 0.95, f\"Bin size: {edges[1]-edges[0]:.0f} wxHOPR\", transform=ax.transAxes, ha='right', va='top'),\n",
    "            ax.text(0.95, 0.85, f\"Distributed tokens: {eligibles[0].economic_model.budget.budget:_.0f} wxHOPR\", transform=ax.transAxes, ha='right', va='top'),\n",
    "        ]\n",
    "        [t.set_bbox(dict(facecolor='#b4f0ff', alpha=0.5, edgecolor='white')) for t in texts]\n",
    "\n",
    "    _ = axes[0].set_ylabel(\"Number of peers\")"
   ]
  },
  {
   "cell_type": "code",
   "execution_count": 219,
   "metadata": {},
   "outputs": [
    {
     "data": {
      "application/vnd.jupyter.widget-view+json": {
       "model_id": "57f942b830f0440d8e23796ff2e88838",
       "version_major": 2,
       "version_minor": 0
      },
      "text/plain": [
       "VBox(children=(HBox(children=(IntSlider(value=10, description='Bins count', max=20, min=5), FloatSlider(value=…"
      ]
     },
     "metadata": {},
     "output_type": "display_data"
    }
   ],
   "source": [
    "bin_slider = IntSlider(min=5, max=20, step=1, value=10, description=\"Bins count\")\n",
    "budget_dollars_slider = IntSlider(min=0, max=20000, step=500, value=10000, description=\"Budget ($)\")\n",
    "token_price_slider = FloatSlider(min=0.01, max=0.20, step=0.001, value=0.065, description=\"Token price ($)\",readout_format='.3f')\n",
    "\n",
    "widgets = interactive(print_distribution, bin_count=bin_slider, token_price=token_price_slider, budget_dollars=budget_dollars_slider)\n",
    "output = widgets.children[-1]\n",
    "controls = HBox(widgets.children[:-1], layout = Layout(flex_flow='row wrap'))\n",
    "display(VBox([controls, output]))\n"
   ]
  },
  {
   "cell_type": "code",
   "execution_count": null,
   "metadata": {},
   "outputs": [],
   "source": []
  }
 ],
 "metadata": {
  "kernelspec": {
   "display_name": "Python 3",
   "language": "python",
   "name": "python3"
  },
  "language_info": {
   "codemirror_mode": {
    "name": "ipython",
    "version": 3
   },
   "file_extension": ".py",
   "mimetype": "text/x-python",
   "name": "python",
   "nbconvert_exporter": "python",
   "pygments_lexer": "ipython3",
   "version": "3.10.13"
  }
 },
 "nbformat": 4,
 "nbformat_minor": 2
}
